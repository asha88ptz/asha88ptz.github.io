{
  "nbformat": 4,
  "nbformat_minor": 0,
  "metadata": {
    "colab": {
      "private_outputs": true,
      "provenance": [],
      "authorship_tag": "ABX9TyPS8dxp2SYIctayrKgLJ6g5",
      "include_colab_link": true
    },
    "kernelspec": {
      "name": "python3",
      "display_name": "Python 3"
    },
    "language_info": {
      "name": "python"
    }
  },
  "cells": [
    {
      "cell_type": "markdown",
      "metadata": {
        "id": "view-in-github",
        "colab_type": "text"
      },
      "source": [
        "<a href=\"https://colab.research.google.com/github/asha88ptz/asha88ptz.github.io/blob/main/Probability_and_Statistics_2_Monte_Carlo_Generators.ipynb\" target=\"_parent\"><img src=\"https://colab.research.google.com/assets/colab-badge.svg\" alt=\"Open In Colab\"/></a>"
      ]
    },
    {
      "cell_type": "code",
      "execution_count": null,
      "metadata": {
        "id": "zIu3by1bB3FH"
      },
      "outputs": [],
      "source": [
        "import pandas as pd\n",
        "import numpy as np"
      ]
    },
    {
      "cell_type": "code",
      "source": [
        "import random"
      ],
      "metadata": {
        "id": "tUnPz7KfCgSL"
      },
      "execution_count": null,
      "outputs": []
    },
    {
      "cell_type": "markdown",
      "source": [
        "# Дискретный генератор случайности"
      ],
      "metadata": {
        "id": "nFf5N56OL_Kd"
      }
    },
    {
      "cell_type": "code",
      "source": [
        "# Генерор случайности (или случайная переменная)\n",
        "np.random.binomial(1, 0.5)"
      ],
      "metadata": {
        "id": "pym9IyCTCxDP"
      },
      "execution_count": null,
      "outputs": []
    },
    {
      "cell_type": "code",
      "source": [
        "n = 3\n",
        "[np.random.binomial(1, 0.5) for _ in range(n)]"
      ],
      "metadata": {
        "id": "uAhrbMGaCyv2"
      },
      "execution_count": null,
      "outputs": []
    },
    {
      "cell_type": "code",
      "source": [
        "n = 3\n",
        "np.random.binomial(1, 0.5, size=n)"
      ],
      "metadata": {
        "id": "mfH8A2x5DqY7"
      },
      "execution_count": null,
      "outputs": []
    },
    {
      "cell_type": "code",
      "source": [
        "def coin_toss(n=3):\n",
        "    return [pd.Series([0, 1]).sample(1).values[0] for _ in range(n)]"
      ],
      "metadata": {
        "id": "HFOqmTQtDq4_"
      },
      "execution_count": null,
      "outputs": []
    },
    {
      "cell_type": "code",
      "source": [
        "coin_toss()"
      ],
      "metadata": {
        "id": "nRztoZKiEmhl"
      },
      "execution_count": null,
      "outputs": []
    },
    {
      "cell_type": "code",
      "source": [
        "# Моделируем бросание кубика 10 раз\n",
        "pd.Series([1, 2, 3, 4, 5, 6]).sample(10, replace=True)"
      ],
      "metadata": {
        "id": "bGEz7j2VE9vt"
      },
      "execution_count": null,
      "outputs": []
    },
    {
      "cell_type": "code",
      "source": [
        "# То же самое с помощью pandas\n",
        "np.random.randint(1, 6 + 1, size=10)"
      ],
      "metadata": {
        "id": "edTfhlxUG2YU"
      },
      "execution_count": null,
      "outputs": []
    },
    {
      "cell_type": "code",
      "source": [
        "pd.Series([1, 2, 3, 4, 5, 6]).sample(10, replace=True).reset_index(drop=True)"
      ],
      "metadata": {
        "id": "7G9MUi-uG72p"
      },
      "execution_count": null,
      "outputs": []
    },
    {
      "cell_type": "code",
      "source": [
        "pd.Series(np.random.randint(1, 6 + 1, size=1000)).value_counts()"
      ],
      "metadata": {
        "id": "rzGujGPYHtOs"
      },
      "execution_count": null,
      "outputs": []
    },
    {
      "cell_type": "code",
      "source": [
        "# Менее честная монетка (вероятность одного случая не 0.5)\n",
        "pd.Series(np.random.binomial(1, 0.7, 1000)).value_counts()"
      ],
      "metadata": {
        "id": "RXy2WhHaIIzP"
      },
      "execution_count": null,
      "outputs": []
    },
    {
      "cell_type": "code",
      "source": [
        "# То же самое с помощью pandas\n",
        "pd.Series([1]*7 + [0]*3).sample(10, replace=True)"
      ],
      "metadata": {
        "id": "3-PRHAFKI5jb"
      },
      "execution_count": null,
      "outputs": []
    },
    {
      "cell_type": "code",
      "source": [
        "def chamomile():\n",
        "    return pd.Series(['любит', 'не любит']).sample(1)"
      ],
      "metadata": {
        "id": "I1HI5k15Jekh"
      },
      "execution_count": null,
      "outputs": []
    },
    {
      "cell_type": "code",
      "source": [
        "chamomile()"
      ],
      "metadata": {
        "id": "VDNbDMq4Kffu"
      },
      "execution_count": null,
      "outputs": []
    },
    {
      "cell_type": "code",
      "source": [
        "pd.Series(np.random.binomial(1, 0.5, size=1000)).hist()"
      ],
      "metadata": {
        "id": "jHL2WfjAMy36"
      },
      "execution_count": null,
      "outputs": []
    },
    {
      "cell_type": "code",
      "source": [
        "pd.Series([1, 2, 3, 4, 5, 6]).sample(1000, replace=True).hist()"
      ],
      "metadata": {
        "id": "GcIx_24GNZl8"
      },
      "execution_count": null,
      "outputs": []
    },
    {
      "cell_type": "markdown",
      "source": [
        "# Непрерывный генератор случайности"
      ],
      "metadata": {
        "id": "ZEV7CUknMFUm"
      }
    },
    {
      "cell_type": "code",
      "source": [
        "np.random.uniform()"
      ],
      "metadata": {
        "id": "nFjawvZMMxtg"
      },
      "execution_count": null,
      "outputs": []
    },
    {
      "cell_type": "code",
      "source": [
        "pd.Series(np.random.uniform(size=1000)).hist()"
      ],
      "metadata": {
        "id": "-Jo6LeknKhjV"
      },
      "execution_count": null,
      "outputs": []
    },
    {
      "cell_type": "code",
      "source": [
        "pd.Series(np.random.uniform(size=100))"
      ],
      "metadata": {
        "id": "QHFx5ISbOZZT"
      },
      "execution_count": null,
      "outputs": []
    },
    {
      "cell_type": "code",
      "source": [
        "pd.Series(np.random.normal(size=10000)).hist()"
      ],
      "metadata": {
        "id": "8GtFCGwbOkLu"
      },
      "execution_count": null,
      "outputs": []
    },
    {
      "cell_type": "code",
      "source": [
        "pd.Series(np.random.poisson(10, size=100000)).hist()"
      ],
      "metadata": {
        "id": "7FwjK8PUOzyc"
      },
      "execution_count": null,
      "outputs": []
    },
    {
      "cell_type": "code",
      "source": [
        "uniform = pd.Series(np.random.uniform(size=1000))"
      ],
      "metadata": {
        "id": "uc0lIvvLPkOD"
      },
      "execution_count": null,
      "outputs": []
    },
    {
      "cell_type": "code",
      "source": [
        "uniform"
      ],
      "metadata": {
        "id": "XsbjFcRSROsc"
      },
      "execution_count": null,
      "outputs": []
    },
    {
      "cell_type": "code",
      "source": [
        "pd.Series(uniform.sample(100)).hist()\n"
      ],
      "metadata": {
        "id": "u6c2fyklR8I_"
      },
      "execution_count": null,
      "outputs": []
    },
    {
      "cell_type": "code",
      "source": [
        "# Используем выборку как генератор, возращая данный назад\n",
        "pd.Series(uniform.sample(10000, replace=True)).hist()"
      ],
      "metadata": {
        "id": "4aS5OxKZRPV_"
      },
      "execution_count": null,
      "outputs": []
    },
    {
      "cell_type": "markdown",
      "source": [
        "# PMF, PDF, CDF"
      ],
      "metadata": {
        "id": "NmZxwMDqSwBe"
      }
    },
    {
      "cell_type": "code",
      "source": [
        "import seaborn as sns"
      ],
      "metadata": {
        "id": "imFMmHNWRf73"
      },
      "execution_count": null,
      "outputs": []
    },
    {
      "cell_type": "code",
      "source": [
        "u = np.random.randint(1, 7, size=1000)"
      ],
      "metadata": {
        "id": "S7mrSaXoTlBf"
      },
      "execution_count": null,
      "outputs": []
    },
    {
      "cell_type": "code",
      "source": [
        "sns.histplot(u, stat='probability')"
      ],
      "metadata": {
        "id": "GcQ1SNlQS2U6"
      },
      "execution_count": null,
      "outputs": []
    },
    {
      "cell_type": "code",
      "source": [
        "1/6"
      ],
      "metadata": {
        "id": "je3hs8PWS8Ng"
      },
      "execution_count": null,
      "outputs": []
    },
    {
      "cell_type": "code",
      "source": [
        "sns.ecdfplot(u)"
      ],
      "metadata": {
        "id": "_jKfx5pkTZg5"
      },
      "execution_count": null,
      "outputs": []
    },
    {
      "cell_type": "code",
      "source": [
        "sns.histplot(pd.Series([1, 2, 3, 4, 4, 5, 6]).sample(10000, replace=True), stat='probability')"
      ],
      "metadata": {
        "id": "MFw-ZkpTT0i2"
      },
      "execution_count": null,
      "outputs": []
    },
    {
      "cell_type": "code",
      "source": [
        "sns.ecdfplot(pd.Series([1, 2, 3, 4, 4, 5, 6]).sample(10000, replace=True))"
      ],
      "metadata": {
        "id": "qDeikgaQVPq3"
      },
      "execution_count": null,
      "outputs": []
    },
    {
      "cell_type": "code",
      "source": [],
      "metadata": {
        "id": "XWVSVQ4PVeFd"
      },
      "execution_count": null,
      "outputs": []
    }
  ]
}